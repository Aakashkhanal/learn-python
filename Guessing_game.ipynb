{
  "nbformat": 4,
  "nbformat_minor": 0,
  "metadata": {
    "colab": {
      "provenance": [],
      "authorship_tag": "ABX9TyMvTf7xhgF7iWQTVZS1BojE",
      "include_colab_link": true
    },
    "kernelspec": {
      "name": "python3",
      "display_name": "Python 3"
    },
    "language_info": {
      "name": "python"
    }
  },
  "cells": [
    {
      "cell_type": "markdown",
      "metadata": {
        "id": "view-in-github",
        "colab_type": "text"
      },
      "source": [
        "<a href=\"https://colab.research.google.com/github/Aakashkhanal/learn-python/blob/main/Guessing_game.ipynb\" target=\"_parent\"><img src=\"https://colab.research.google.com/assets/colab-badge.svg\" alt=\"Open In Colab\"/></a>"
      ]
    },
    {
      "cell_type": "code",
      "source": [
        "# Asking the range of the input\n",
        "# Build a Number guessing game, in which the user selects a range.\n",
        "\n",
        "start = int(input('Enter the start of the range:'))\n",
        "end = int(input('Enter the end of the range:'))\n",
        "\n",
        "\n"
      ],
      "metadata": {
        "colab": {
          "base_uri": "https://localhost:8080/"
        },
        "id": "yTBc5atNm05C",
        "outputId": "615f2852-4488-4f88-97cc-250102e1040f"
      },
      "execution_count": null,
      "outputs": [
        {
          "name": "stdout",
          "output_type": "stream",
          "text": [
            "Enter the start of the range:1\n",
            "Enter the end of the range:10\n"
          ]
        }
      ]
    },
    {
      "cell_type": "code",
      "source": [
        "# here we generate a random number from the range\n",
        "import random\n",
        "random_number = random.randint(start, end)\n",
        "print(random_number)\n"
      ],
      "metadata": {
        "colab": {
          "base_uri": "https://localhost:8080/"
        },
        "id": "-0Wm7P9wm08-",
        "outputId": "6a6c7dde-464d-4449-8988-dbdd7a36a086"
      },
      "execution_count": null,
      "outputs": [
        {
          "output_type": "stream",
          "name": "stdout",
          "text": [
            "4\n"
          ]
        }
      ]
    },
    {
      "cell_type": "code",
      "source": [
        "number_of_guess = 0\n",
        "chance = 2\n",
        "while number_of_guess < chance:\n",
        "\n",
        "  number_of_guess = number_of_guess + 1\n",
        "  chance_left = chance - number_of_guess\n",
        "  guess = int(input('Guess a number:'))\n",
        "\n",
        "  if guess == random_number:\n",
        "\n",
        "    print('Congratulations! You guessed the correct number.', random_number)\n",
        "    print('total no. of guess',number_of_guess )\n",
        "    break\n",
        "\n",
        "  elif guess > random_number:\n",
        "      print('Your guess is too high.')\n",
        "      print('Chance left is',chance_left )\n",
        "\n",
        "  else:\n",
        "    print('Your guess is too low')\n",
        "    print('Chance left is',chance_left )\n",
        "\n",
        "  if chance_left == 0:\n",
        "    print('sorry you have no chance left you loose')\n",
        "\n",
        "\n",
        "\n",
        "\n",
        "\n"
      ],
      "metadata": {
        "colab": {
          "base_uri": "https://localhost:8080/"
        },
        "id": "ekSsChN2m1CH",
        "outputId": "46ca60e2-aa91-4919-8be3-b754542a2334"
      },
      "execution_count": null,
      "outputs": [
        {
          "output_type": "stream",
          "name": "stdout",
          "text": [
            "Guess a number:5\n",
            "Your guess is too high.\n",
            "Chance left is 1\n",
            "Guess a number:4\n",
            "Congratulations! You guessed the correct number. 4\n",
            "total no. of guess 2\n"
          ]
        }
      ]
    },
    {
      "cell_type": "code",
      "source": [],
      "metadata": {
        "id": "AEgU8QSwm1Eo"
      },
      "execution_count": null,
      "outputs": []
    },
    {
      "cell_type": "markdown",
      "source": [],
      "metadata": {
        "id": "FwtVdDe8bg_D"
      }
    }
  ]
}